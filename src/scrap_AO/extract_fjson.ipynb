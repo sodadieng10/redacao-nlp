{
 "cells": [
  {
   "cell_type": "code",
   "execution_count": 3,
   "id": "c76218f5",
   "metadata": {},
   "outputs": [],
   "source": [
    "import os\n",
    "import pdfplumber\n",
    "import re\n",
    "import json\n",
    "\n",
    "def extraire_info(texte, pattern):\n",
    "    match = re.search(pattern, texte, re.IGNORECASE)\n",
    "    return match.group(1).strip() if match else None\n",
    "\n",
    "def traiter_pdf(fichier_pdf):\n",
    "    with pdfplumber.open(fichier_pdf) as pdf:\n",
    "        texte = \"\\n\".join(page.extract_text() for page in pdf.pages if page.extract_text())\n",
    "\n",
    "    return {\n",
    "        \"fichier\": os.path.basename(fichier_pdf),\n",
    "        \"numero\": extraire_info(texte, r\"Annonce n°\\s*([\\d\\-]+)\"),\n",
    "        \"titre\": extraire_info(texte, r\"Titre\\s*:\\s*(.+)\"),\n",
    "        \"type_avis\": \"attribution\" if \"Avis d’attribution\" in texte else \"marché\",\n",
    "        \"acheteur\": extraire_info(texte, r\"Nom officiel\\s*:\\s*(.+)\"),\n",
    "        \"forme_juridique\": extraire_info(texte, r\"Forme juridique.*?:\\s*(.+)\"),\n",
    "        \"activité\": extraire_info(texte, r\"Activité.*?:\\s*(.+)\"),\n",
    "        \"nature\": extraire_info(texte, r\"Nature du marché\\s*:\\s*(.+)\"),\n",
    "        \"type_procedure\": extraire_info(texte, r\"Type de procédure\\s*:\\s*(.+)\"),\n",
    "        \"cpv\": extraire_info(texte, r\"cpv\\s*\\):\\s*(\\d{8})\"),\n",
    "        \"lieu\": extraire_info(texte, r\"Subdivision pays.*?:\\s*([^\\n]+)\"),\n",
    "        \"montant_max\": extraire_info(texte, r\"montant (?:maximum|estimée|quadriennal).*?:\\s*([\\d\\s.,]+)\"),\n",
    "        \"duree\": extraire_info(texte, r\"Durée\\s*:\\s*([^\\n]+)\"),\n",
    "        \"date_limite\": extraire_info(texte, r\"Date limite de réception des offres\\s*:\\s*(.+)\")\n",
    "    }\n",
    "\n",
    "def traiter_dossier(dossier, sortie_json):\n",
    "    fichiers = [os.path.join(dossier, f) for f in os.listdir(dossier) if f.endswith(\".pdf\")]\n",
    "    donnees = []\n",
    "\n",
    "    for f in fichiers:\n",
    "        try:\n",
    "            resultat = traiter_pdf(f)\n",
    "            donnees.append(resultat)\n",
    "        except Exception as e:\n",
    "            print(f\"Erreur avec {f} : {e}\")\n",
    "\n",
    "    with open(sortie_json, \"w\", encoding=\"utf-8\") as f_out:\n",
    "        json.dump(donnees, f_out, ensure_ascii=False, indent=2)\n",
    "\n",
    "# ✅ Maintenant (si les PDF sont à côté du notebook)\n",
    "dossier_pdf = \".\"\n",
    "fichier_json = \"avis_compiles.json\"\n",
    "# ▶️ Lancement\n",
    "traiter_dossier(dossier_pdf, fichier_json)\n"
   ]
  },
  {
   "cell_type": "code",
   "execution_count": null,
   "id": "f229b3a2",
   "metadata": {},
   "outputs": [],
   "source": []
  }
 ],
 "metadata": {
  "kernelspec": {
   "display_name": "Python 3 (ipykernel)",
   "language": "python",
   "name": "python3"
  },
  "language_info": {
   "codemirror_mode": {
    "name": "ipython",
    "version": 3
   },
   "file_extension": ".py",
   "mimetype": "text/x-python",
   "name": "python",
   "nbconvert_exporter": "python",
   "pygments_lexer": "ipython3",
   "version": "3.11.5"
  }
 },
 "nbformat": 4,
 "nbformat_minor": 5
}
